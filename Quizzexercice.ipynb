{
 "cells": [
  {
   "cell_type": "markdown",
   "metadata": {},
   "source": [
    "# Quizz Gauthier"
   ]
  },
  {
   "cell_type": "code",
   "execution_count": 32,
   "metadata": {},
   "outputs": [
    {
     "name": "stdout",
     "output_type": "stream",
     "text": [
      "Voici mon quizz, tu as 3 chances, au plus tu te trompes au plus ton score diminue !\n",
      "---------------------------------------\n",
      "Quel âge j'ai ? 25\n",
      "---------------------------------------\n",
      "Mcdo, Quick ou Burger King ?mcdo\n",
      "---------------------------------------\n",
      "Quelle est la capitale de l'Australie ? canberra\n",
      "---------------------------------------\n",
      "Bravo ! C'est gagné :)\n",
      "Voici ton score : 100.0 %\n"
     ]
    }
   ],
   "source": [
    "print(\"Voici mon quizz, tu as 3 chances, au plus tu te trompes au plus ton score diminue !\")\n",
    "\n",
    "print(\"---------------------------------------\")\n",
    "\n",
    "#Mise en place du dico Question/valeur\n",
    "dic = {\"Quel âge j'ai ? \":\"25\",\n",
    "        \"Mcdo, Quick ou Burger King ?\":\"mcdo\"\n",
    "        ,\"Quelle est la capitale de l'Australie ? \":\"canberra\"\n",
    "}\n",
    "\n",
    "#Nombre de chances qu'a le participant\n",
    "nb_de_chances = 3\n",
    "Score = 9\n",
    "\n",
    "\n",
    "\n",
    "#Mise en place de la fonction en utilisant 3 variables, le nombre de chances réstantes, la question posée et la bonne réponse.\n",
    "def quizz(nb_de_chances, question, bonne_réponse, Score):\n",
    "    if nb_de_chances >0:\n",
    "        réponse=input(question)\n",
    "        réponse=réponse.lower()\n",
    "        print(\"---------------------------------------\")\n",
    "        while réponse != bonne_réponse:\n",
    "            nb_de_chances -=1\n",
    "            Score -= 1\n",
    "            print(\"Dommage ! Il te reste {} chances\".format(nb_de_chances))\n",
    "            \n",
    "            if nb_de_chances == 0:\n",
    "                print(\"Aie aie aie...c'est la fin !\")\n",
    "                #Break important, casse la boucle pour éviter de partir en nombre de chances restantes négatives.\n",
    "                break\n",
    "            réponse = input(question)\n",
    "            réponse = réponse.lower()\n",
    "        return nb_de_chances,Score\n",
    "    \n",
    "for questions, answer in dic.items():\n",
    "    chances, Score = quizz (nb_de_chances, questions, answer,Score)\n",
    "if nb_de_chances >0:\n",
    "    print (\"Bravo ! C'est gagné :)\")\n",
    "\n",
    "\n",
    "score_per=((Score/9)*100)\n",
    "print(\"Voici ton score : {} %\".format(score_per))"
   ]
  },
  {
   "cell_type": "code",
   "execution_count": null,
   "metadata": {},
   "outputs": [],
   "source": []
  }
 ],
 "metadata": {
  "kernelspec": {
   "display_name": "Python 3",
   "language": "python",
   "name": "python3"
  },
  "language_info": {
   "codemirror_mode": {
    "name": "ipython",
    "version": 3
   },
   "file_extension": ".py",
   "mimetype": "text/x-python",
   "name": "python",
   "nbconvert_exporter": "python",
   "pygments_lexer": "ipython3",
   "version": "3.8.3"
  }
 },
 "nbformat": 4,
 "nbformat_minor": 4
}
